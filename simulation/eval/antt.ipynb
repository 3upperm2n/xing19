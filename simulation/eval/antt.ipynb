{
 "cells": [
  {
   "cell_type": "code",
   "execution_count": 31,
   "metadata": {},
   "outputs": [],
   "source": [
    "import numpy as np\n",
    "import csv\n",
    "import pandas as pd"
   ]
  },
  {
   "cell_type": "code",
   "execution_count": 32,
   "metadata": {},
   "outputs": [],
   "source": [
    "# dedicated runtime\n",
    "# appRuntime = np.load('../dedicated_runtime/app_dedicated_rt.npy').item()"
   ]
  },
  {
   "cell_type": "code",
   "execution_count": 33,
   "metadata": {},
   "outputs": [
    {
     "name": "stdout",
     "output_type": "stream",
     "text": [
      "{'rodinia_b+tree': 1.5293519496917725, 'cudasdk_reduction': 1.1114969253540039, 'cudasdk_convolutionFFT2D': 3.5076291561126709, 'shoc_lev1BFS': 0.70082902908325195, 'rodinia_lavaMD': 0.96436595916748047, 'poly_gemm': 1.3004980087280273, 'rodinia_hybridsort': 0.87156295776367188, 'cudasdk_MCEstimatePiInlineQ': 0.77948307991027832, 'cudasdk_MCEstimatePiInlineP': 0.6841280460357666, 'cudasdk_shflscan': 0.64646100997924805, 'rodinia_dwt2d': 0.70926189422607422, 'cudasdk_vectorAdd': 0.61124396324157715, 'cudasdk_MCEstimatePiP': 0.81639719009399414, 'cudasdk_radixSortThrust': 1.4740438461303711, 'shoc_lev1md5hash': 0.68527078628540039, 'parboil_bfs': 0.88222908973693848, 'poly_covariance': 51.159648895263672, 'shoc_lev1fft': 0.71208500862121582, 'cudasdk_segmentationTreeThrust': 2.9541587829589844, 'cudasdk_simpleCUBLAS': 0.79222989082336426, 'parboil_sgemm': 0.64826798439025879, 'cudasdk_concurrentKernels': 0.64674997329711914, 'cudasdk_fastWalshTransform': 3.1675691604614258, 'cudasdk_SobolQRNG': 0.71829390525817871, 'poly_gesummv': 0.79075908660888672, 'cudasdk_c++11Cuda': 0.84449291229248047, 'lonestar_bh': 7.3672590255737305, 'cudasdk_FDTD3d': 10.287642002105713, 'cudasdk_eigenvalues': 2.1058349609375, 'cudasdk_dxtc': 0.7422330379486084, 'parboil_stencil': 0.7317039966583252, 'poly_correlation': 49.883692026138306, 'cudasdk_sortingNetworks': 5.4577429294586182, 'cudasdk_convolutionSeparable': 1.8707561492919922, 'poly_2dconv': 1.4579510688781738, 'cudasdk_batchCUBLAS': 1.5262942314147949, 'rodinia_pathfinder': 0.77609801292419434, 'parboil_mriq': 0.63274002075195312, 'cudasdk_binomialOptions': 22.695369958877563, 'cudasdk_scalarProd': 0.66367578506469727, 'cudasdk_dwtHaar1D': 0.66864204406738281, 'cudasdk_quasirandomGenerator': 1.2576370239257812, 'cudasdk_threadFenceReduction': 0.6921989917755127, 'cudasdk_simpleCUFFTcallback': 1.6851451396942139, 'rodinia_needle': 0.67019486427307129, 'poly_fdtd2d': 28.628636121749878, 'poly_mvt': 0.97165799140930176, 'rodinia_lud': 0.63570308685302734, 'parboil_cutcp': 0.71420788764953613, 'shoc_lev1reduction': 0.69965696334838867, 'poly_3mm': 2.4278860092163086, 'cudasdk_convolutionTexture': 1.2955880165100098, 'rodinia_gaussian': 0.62264084815979004, 'cudasdk_matrixMul': 0.83054089546203613, 'poly_bicg': 0.74440884590148926, 'poly_syr2k': 51.031411170959473, 'cudasdk_MCEstimatePiQ': 0.65240883827209473, 'shoc_lev1sort': 0.68708109855651855, 'cudasdk_scan': 2.8600461483001709, 'cudasdk_stereoDisparity': 22.999117136001587, 'cudasdk_MCSingleAsianOptionP': 0.6283869743347168, 'parboil_lbm': 2.1784279346466064, 'cudasdk_dct8x8': 0.85186505317687988, 'cudasdk_interval': 1.8689970970153809, 'cudasdk_mergeSort': 0.88096094131469727, 'cudasdk_transpose': 0.80300307273864746, 'poly_atax': 0.77803802490234375, 'poly_3dconv': 1.2486090660095215, 'cudasdk_BlackScholes': 2.6108629703521729, 'cudasdk_lineOfSight': 0.70968508720397949, 'poly_syrk': 4.0682351589202881, 'rodinia_hotspot': 0.93049192428588867, 'cudasdk_boxFilterNPP': 0.95174407958984375, 'shoc_lev1GEMM': 0.75359797477722168, 'rodinia_backprop': 0.67900705337524414}\n"
     ]
    }
   ],
   "source": [
    "#\n",
    "# read runtime in ../02_dedicate\n",
    "#\n",
    "app_at_gpu0 = np.load('../../02_dedicate/homedesktop-gpu0.npy').item()\n",
    "print app_at_gpu0"
   ]
  },
  {
   "cell_type": "code",
   "execution_count": 34,
   "metadata": {},
   "outputs": [
    {
     "name": "stdout",
     "output_type": "stream",
     "text": [
      "{'rodinia_b+tree': 1.0812499523162842, 'cudasdk_reduction': 0.68117094039916992, 'cudasdk_convolutionFFT2D': 3.0999901294708252, 'shoc_lev1BFS': 0.24061894416809082, 'rodinia_lavaMD': 0.43408584594726562, 'poly_gemm': 0.86061501502990723, 'rodinia_hybridsort': 0.48058485984802246, 'cudasdk_MCEstimatePiInlineQ': 0.24531793594360352, 'cudasdk_MCEstimatePiInlineP': 0.26801586151123047, 'cudasdk_shflscan': 0.25724601745605469, 'rodinia_dwt2d': 0.25281000137329102, 'cudasdk_vectorAdd': 0.23250794410705566, 'cudasdk_MCEstimatePiP': 0.28968906402587891, 'cudasdk_radixSortThrust': 1.0569000244140625, 'shoc_lev1md5hash': 0.31501007080078125, 'parboil_bfs': 0.38708305358886719, 'poly_covariance': 53.46834397315979, 'shoc_lev1fft': 0.24262189865112305, 'cudasdk_segmentationTreeThrust': 2.6605408191680908, 'cudasdk_simpleCUBLAS': 0.38605713844299316, 'parboil_sgemm': 0.24231886863708496, 'cudasdk_concurrentKernels': 0.24102401733398438, 'cudasdk_fastWalshTransform': 2.7304399013519287, 'cudasdk_SobolQRNG': 0.31908392906188965, 'poly_gesummv': 0.40901494026184082, 'cudasdk_c++11Cuda': 0.90542888641357422, 'lonestar_bh': 7.337770938873291, 'cudasdk_FDTD3d': 9.9745099544525146, 'cudasdk_eigenvalues': 2.6782009601593018, 'cudasdk_dxtc': 0.26365184783935547, 'parboil_stencil': 0.25097298622131348, 'poly_correlation': 57.034497976303101, 'cudasdk_sortingNetworks': 5.1487720012664795, 'cudasdk_convolutionSeparable': 1.5115499496459961, 'poly_2dconv': 1.1127660274505615, 'cudasdk_batchCUBLAS': 0.37936806678771973, 'rodinia_pathfinder': 0.38620090484619141, 'parboil_mriq': 0.23991012573242188, 'cudasdk_binomialOptions': 22.217447996139526, 'cudasdk_scalarProd': 0.27554678916931152, 'cudasdk_dwtHaar1D': 0.23399615287780762, 'cudasdk_quasirandomGenerator': 0.85174894332885742, 'cudasdk_threadFenceReduction': 0.27285599708557129, 'cudasdk_simpleCUFFTcallback': 0.70993900299072266, 'rodinia_needle': 0.27673697471618652, 'poly_fdtd2d': 27.784869194030762, 'poly_mvt': 0.60522794723510742, 'rodinia_lud': 0.2398989200592041, 'parboil_cutcp': 0.30027008056640625, 'shoc_lev1reduction': 0.30798101425170898, 'poly_3mm': 2.042586088180542, 'cudasdk_convolutionTexture': 0.90807485580444336, 'rodinia_gaussian': 0.23317599296569824, 'cudasdk_matrixMul': 0.45377087593078613, 'poly_bicg': 0.38844084739685059, 'poly_syr2k': 58.813385009765625, 'cudasdk_MCEstimatePiQ': 0.27803206443786621, 'shoc_lev1sort': 0.25872492790222168, 'cudasdk_scan': 1.9164948463439941, 'cudasdk_stereoDisparity': 22.582595109939575, 'cudasdk_MCSingleAsianOptionP': 0.2678530216217041, 'parboil_lbm': 2.1786048412322998, 'cudasdk_dct8x8': 0.4726259708404541, 'cudasdk_interval': 1.3808300495147705, 'cudasdk_mergeSort': 0.49420499801635742, 'cudasdk_transpose': 0.46477794647216797, 'poly_atax': 0.39109492301940918, 'poly_3dconv': 0.87738394737243652, 'cudasdk_BlackScholes': 1.9693429470062256, 'cudasdk_lineOfSight': 0.29952311515808105, 'poly_syrk': 3.9220819473266602, 'rodinia_hotspot': 0.4529578685760498, 'cudasdk_boxFilterNPP': 0.25980210304260254, 'shoc_lev1GEMM': 0.32240796089172363, 'rodinia_backprop': 0.26890897750854492}\n"
     ]
    }
   ],
   "source": [
    "app_at_gpu1 = np.load('../../02_dedicate/homedesktop-gpu1.npy').item()\n",
    "print app_at_gpu1"
   ]
  },
  {
   "cell_type": "code",
   "execution_count": 35,
   "metadata": {},
   "outputs": [
    {
     "name": "stdout",
     "output_type": "stream",
     "text": [
      "<type 'dict'>\n"
     ]
    }
   ],
   "source": [
    "print type(app_at_gpu1)"
   ]
  },
  {
   "cell_type": "code",
   "execution_count": 36,
   "metadata": {},
   "outputs": [],
   "source": [
    "appRuntime = {}\n",
    "for app, gpu0_rt in app_at_gpu0.iteritems():\n",
    "    gpu1_rt = app_at_gpu1[app]\n",
    "    appRuntime[app] = min(gpu0_rt, gpu1_rt)"
   ]
  },
  {
   "cell_type": "code",
   "execution_count": 37,
   "metadata": {},
   "outputs": [],
   "source": [
    "# for app, app_rt in appRuntime.iteritems():\n",
    "#     print app, app_rt"
   ]
  },
  {
   "cell_type": "code",
   "execution_count": 38,
   "metadata": {},
   "outputs": [],
   "source": [
    "def read_timing_df(curfile):\n",
    "    \"\"\"read timing traces in csv file, offset the trace with the starting pos, return the dataframe\"\"\"\n",
    "    df_current = pd.read_csv(curfile)\n",
    "    offset = df_current['start'].min()  # find the starting timing, and offset it\n",
    "    df_current['start'] = df_current['start'].apply(lambda x: x - offset)\n",
    "    df_current['end'] = df_current['end'].apply(lambda x: x - offset)\n",
    "    return df_current\n",
    "\n",
    "def compare_with_dedicatedruntime(df, appRuntime):\n",
    "    \"\"\"\n",
    "    read the timing traces in dataframe (after read_timing_df()).\n",
    "    compute the speedup over the dedicated runtime\n",
    "    return speedup list\n",
    "    \"\"\"\n",
    "    dedicated_total,  corun_total = 0.0, 0.0\n",
    "    speedup_list = []\n",
    "\n",
    "    # columns => ['jobID', 'appName', 'start', 'end', 'duration (s)']\n",
    "    for index, row in df.iterrows():\n",
    "        app_name, app_endT = row['appName'], row['end']\n",
    "        app_rt_dedicate = float(appRuntime[app_name])  # dedicated runtime\n",
    "        app_endT = float(app_endT)\n",
    "        if corun_total < app_endT: corun_total = app_endT\n",
    "        dedicated_total += app_rt_dedicate\n",
    "        speedup = dedicated_total / corun_total\n",
    "        speedup_list.append(speedup)   \n",
    "    return speedup_list"
   ]
  },
  {
   "cell_type": "code",
   "execution_count": 39,
   "metadata": {},
   "outputs": [
    {
     "data": {
      "text/plain": [
       "75"
      ]
     },
     "execution_count": 39,
     "metadata": {},
     "output_type": "execute_result"
    }
   ],
   "source": [
    "len(appRuntime)"
   ]
  },
  {
   "cell_type": "code",
   "execution_count": 40,
   "metadata": {},
   "outputs": [
    {
     "data": {
      "text/plain": [
       "{'cudasdk_BlackScholes': 1.9693429470062256,\n",
       " 'cudasdk_FDTD3d': 9.9745099544525146,\n",
       " 'cudasdk_MCEstimatePiInlineP': 0.26801586151123047,\n",
       " 'cudasdk_MCEstimatePiInlineQ': 0.24531793594360352,\n",
       " 'cudasdk_MCEstimatePiP': 0.28968906402587891,\n",
       " 'cudasdk_MCEstimatePiQ': 0.27803206443786621,\n",
       " 'cudasdk_MCSingleAsianOptionP': 0.2678530216217041,\n",
       " 'cudasdk_SobolQRNG': 0.31908392906188965,\n",
       " 'cudasdk_batchCUBLAS': 0.37936806678771973,\n",
       " 'cudasdk_binomialOptions': 22.217447996139526,\n",
       " 'cudasdk_boxFilterNPP': 0.25980210304260254,\n",
       " 'cudasdk_c++11Cuda': 0.84449291229248047,\n",
       " 'cudasdk_concurrentKernels': 0.24102401733398438,\n",
       " 'cudasdk_convolutionFFT2D': 3.0999901294708252,\n",
       " 'cudasdk_convolutionSeparable': 1.5115499496459961,\n",
       " 'cudasdk_convolutionTexture': 0.90807485580444336,\n",
       " 'cudasdk_dct8x8': 0.4726259708404541,\n",
       " 'cudasdk_dwtHaar1D': 0.23399615287780762,\n",
       " 'cudasdk_dxtc': 0.26365184783935547,\n",
       " 'cudasdk_eigenvalues': 2.1058349609375,\n",
       " 'cudasdk_fastWalshTransform': 2.7304399013519287,\n",
       " 'cudasdk_interval': 1.3808300495147705,\n",
       " 'cudasdk_lineOfSight': 0.29952311515808105,\n",
       " 'cudasdk_matrixMul': 0.45377087593078613,\n",
       " 'cudasdk_mergeSort': 0.49420499801635742,\n",
       " 'cudasdk_quasirandomGenerator': 0.85174894332885742,\n",
       " 'cudasdk_radixSortThrust': 1.0569000244140625,\n",
       " 'cudasdk_reduction': 0.68117094039916992,\n",
       " 'cudasdk_scalarProd': 0.27554678916931152,\n",
       " 'cudasdk_scan': 1.9164948463439941,\n",
       " 'cudasdk_segmentationTreeThrust': 2.6605408191680908,\n",
       " 'cudasdk_shflscan': 0.25724601745605469,\n",
       " 'cudasdk_simpleCUBLAS': 0.38605713844299316,\n",
       " 'cudasdk_simpleCUFFTcallback': 0.70993900299072266,\n",
       " 'cudasdk_sortingNetworks': 5.1487720012664795,\n",
       " 'cudasdk_stereoDisparity': 22.582595109939575,\n",
       " 'cudasdk_threadFenceReduction': 0.27285599708557129,\n",
       " 'cudasdk_transpose': 0.46477794647216797,\n",
       " 'cudasdk_vectorAdd': 0.23250794410705566,\n",
       " 'lonestar_bh': 7.337770938873291,\n",
       " 'parboil_bfs': 0.38708305358886719,\n",
       " 'parboil_cutcp': 0.30027008056640625,\n",
       " 'parboil_lbm': 2.1784279346466064,\n",
       " 'parboil_mriq': 0.23991012573242188,\n",
       " 'parboil_sgemm': 0.24231886863708496,\n",
       " 'parboil_stencil': 0.25097298622131348,\n",
       " 'poly_2dconv': 1.1127660274505615,\n",
       " 'poly_3dconv': 0.87738394737243652,\n",
       " 'poly_3mm': 2.042586088180542,\n",
       " 'poly_atax': 0.39109492301940918,\n",
       " 'poly_bicg': 0.38844084739685059,\n",
       " 'poly_correlation': 49.883692026138306,\n",
       " 'poly_covariance': 51.159648895263672,\n",
       " 'poly_fdtd2d': 27.784869194030762,\n",
       " 'poly_gemm': 0.86061501502990723,\n",
       " 'poly_gesummv': 0.40901494026184082,\n",
       " 'poly_mvt': 0.60522794723510742,\n",
       " 'poly_syr2k': 51.031411170959473,\n",
       " 'poly_syrk': 3.9220819473266602,\n",
       " 'rodinia_b+tree': 1.0812499523162842,\n",
       " 'rodinia_backprop': 0.26890897750854492,\n",
       " 'rodinia_dwt2d': 0.25281000137329102,\n",
       " 'rodinia_gaussian': 0.23317599296569824,\n",
       " 'rodinia_hotspot': 0.4529578685760498,\n",
       " 'rodinia_hybridsort': 0.48058485984802246,\n",
       " 'rodinia_lavaMD': 0.43408584594726562,\n",
       " 'rodinia_lud': 0.2398989200592041,\n",
       " 'rodinia_needle': 0.27673697471618652,\n",
       " 'rodinia_pathfinder': 0.38620090484619141,\n",
       " 'shoc_lev1BFS': 0.24061894416809082,\n",
       " 'shoc_lev1GEMM': 0.32240796089172363,\n",
       " 'shoc_lev1fft': 0.24262189865112305,\n",
       " 'shoc_lev1md5hash': 0.31501007080078125,\n",
       " 'shoc_lev1reduction': 0.30798101425170898,\n",
       " 'shoc_lev1sort': 0.25872492790222168}"
      ]
     },
     "execution_count": 40,
     "metadata": {},
     "output_type": "execute_result"
    }
   ],
   "source": [
    "appRuntime"
   ]
  },
  {
   "cell_type": "code",
   "execution_count": 41,
   "metadata": {},
   "outputs": [],
   "source": [
    "def compute_antt(inputcsv):\n",
    "    \"\"\"Read app status table in csv format, compute the ANTT\"\"\"\n",
    "    \n",
    "    df = read_timing_df(inputcsv)\n",
    "    \n",
    "    #\n",
    "    # 1) sort the dataframe by 'end'\n",
    "    #\n",
    "    sorted_df = df.sort_values(by=['end'])\n",
    "    \n",
    "    \n",
    "    #\n",
    "    # 2) compute the ntt for each app\n",
    "    # \n",
    "    antt_list = []\n",
    "    for idx, row in sorted_df.iterrows():\n",
    "        appName = row['appName']\n",
    "        T_corun = float(row['duration (s)'])\n",
    "        T_dedicate = float(appRuntime[appName])\n",
    "\n",
    "        tmp = T_corun / T_dedicate\n",
    "        #print appName, T_corun, T_dedicate, tmp\n",
    "        antt_list.append(tmp)\n",
    "\n",
    "    #\n",
    "    # 3) in antt list, add current value with prev\n",
    "    # \n",
    "    antt = [0 for i in xrange(len(antt_list))]\n",
    "    for i, v in enumerate(antt_list):\n",
    "        if i == 0:\n",
    "            antt[0] = v\n",
    "        else:\n",
    "            antt[i] = antt[i-1] + v\n",
    "\n",
    "    # 4) final step:  1 / N on each data sample\n",
    "    antt_seq = []\n",
    "    for i, v in enumerate(antt):\n",
    "        #print i, v\n",
    "        N = i + 1\n",
    "        current_antt = v / N\n",
    "        #print current_antt\n",
    "        antt_seq.append(current_antt)\n",
    "    \n",
    "    return antt_seq\n",
    "    "
   ]
  },
  {
   "cell_type": "markdown",
   "metadata": {},
   "source": [
    "### read traces"
   ]
  },
  {
   "cell_type": "code",
   "execution_count": 42,
   "metadata": {},
   "outputs": [],
   "source": [
    "# we have featall/feat64/feat42/feat42/feat26/feat18/feat14/feat12/featMystic, \n",
    "# to compare with fcfs"
   ]
  },
  {
   "cell_type": "code",
   "execution_count": 49,
   "metadata": {},
   "outputs": [
    {
     "name": "stdout",
     "output_type": "stream",
     "text": [
      "ll-s1-c2.csv 2.05952154258\n",
      "ll-s1-c4.csv 5.98926415741\n",
      "ll-s1-c6.csv 11.5025856958\n",
      "ll-s1-c8.csv 17.2184122228\n",
      "\n",
      "\n",
      "ll-s2-c2.csv 3.76602021664\n",
      "ll-s2-c4.csv 6.64194815203\n",
      "ll-s2-c6.csv 10.8012008455\n",
      "ll-s2-c8.csv 16.223022544\n",
      "\n",
      "\n",
      "ll-s3-c2.csv 2.50587493215\n",
      "ll-s3-c4.csv 6.72024758485\n",
      "ll-s3-c6.csv 11.016247405\n",
      "ll-s3-c8.csv 19.4954863\n",
      "\n",
      "\n"
     ]
    }
   ],
   "source": [
    "prefix = \"ll\"\n",
    "for sid in [1,2,3]:\n",
    "    for cid in [2,4,6,8]:\n",
    "        inputcsv = prefix + \"-s\" + str(sid) + \"-c\" + str(cid) + \".csv\"\n",
    "        antt = compute_antt(inputcsv)\n",
    "        print inputcsv, antt[-1]\n",
    "    print \"\\n\""
   ]
  },
  {
   "cell_type": "code",
   "execution_count": 50,
   "metadata": {},
   "outputs": [
    {
     "name": "stdout",
     "output_type": "stream",
     "text": [
      "rr-s1-c2.csv 2.70313684557\n",
      "rr-s1-c4.csv 5.67045500764\n",
      "rr-s1-c6.csv 9.71917695117\n",
      "rr-s1-c8.csv 13.279964691\n",
      "\n",
      "\n",
      "rr-s2-c2.csv 2.42798229713\n",
      "rr-s2-c4.csv 5.47553718805\n",
      "rr-s2-c6.csv 11.0859911468\n",
      "rr-s2-c8.csv 15.3662365971\n",
      "\n",
      "\n",
      "rr-s3-c2.csv 3.00660359346\n",
      "rr-s3-c4.csv 4.05191473127\n",
      "rr-s3-c6.csv 6.68405406229\n",
      "rr-s3-c8.csv 10.75759219\n",
      "\n",
      "\n"
     ]
    }
   ],
   "source": [
    "prefix = \"rr\"\n",
    "for sid in [1,2,3]:\n",
    "    for cid in [2,4,6,8]:\n",
    "        inputcsv = prefix + \"-s\" + str(sid) + \"-c\" + str(cid) + \".csv\"\n",
    "        antt = compute_antt(inputcsv)\n",
    "        print inputcsv, antt[-1]\n",
    "    print \"\\n\""
   ]
  },
  {
   "cell_type": "code",
   "execution_count": 51,
   "metadata": {},
   "outputs": [
    {
     "name": "stdout",
     "output_type": "stream",
     "text": [
      "xrbfeatAll-s1-c2.csv 1.63654723186\n",
      "xrbfeatAll-s1-c4.csv 3.47270745338\n",
      "xrbfeatAll-s1-c6.csv 6.75836415539\n",
      "xrbfeatAll-s1-c8.csv 9.7571460936\n",
      "\n",
      "\n",
      "xrbfeatAll-s2-c2.csv 1.79221184308\n",
      "xrbfeatAll-s2-c4.csv 3.1794341222\n",
      "xrbfeatAll-s2-c6.csv 6.62755224504\n",
      "xrbfeatAll-s2-c8.csv 10.6047763391\n",
      "\n",
      "\n",
      "xrbfeatAll-s3-c2.csv 1.44648486756\n",
      "xrbfeatAll-s3-c4.csv 2.89107505696\n",
      "xrbfeatAll-s3-c6.csv 5.85886637627\n",
      "xrbfeatAll-s3-c8.csv 8.69414454215\n",
      "\n",
      "\n"
     ]
    }
   ],
   "source": [
    "prefix = \"xrbfeatAll\"\n",
    "for sid in [1,2,3]:\n",
    "    for cid in [2,4,6,8]:\n",
    "        inputcsv = prefix + \"-s\" + str(sid) + \"-c\" + str(cid) + \".csv\"\n",
    "        antt = compute_antt(inputcsv)\n",
    "        print inputcsv, antt[-1]\n",
    "    print \"\\n\""
   ]
  },
  {
   "cell_type": "code",
   "execution_count": 52,
   "metadata": {},
   "outputs": [
    {
     "name": "stdout",
     "output_type": "stream",
     "text": [
      "xrbfeat9-s1-c2.csv 1.64799588036\n",
      "xrbfeat9-s1-c4.csv 2.64912525823\n",
      "xrbfeat9-s1-c6.csv 5.80264664274\n",
      "xrbfeat9-s1-c8.csv 8.39025025472\n",
      "\n",
      "\n",
      "xrbfeat9-s2-c2.csv 1.96629013899\n",
      "xrbfeat9-s2-c4.csv 2.45641208786\n",
      "xrbfeat9-s2-c6.csv 5.04867421294\n",
      "xrbfeat9-s2-c8.csv 8.77101923037\n",
      "\n",
      "\n",
      "xrbfeat9-s3-c2.csv 1.36731079596\n",
      "xrbfeat9-s3-c4.csv 2.75049903036\n",
      "xrbfeat9-s3-c6.csv 4.92372674543\n",
      "xrbfeat9-s3-c8.csv 9.49869967856\n",
      "\n",
      "\n"
     ]
    }
   ],
   "source": [
    "prefix = \"xrbfeat9\"\n",
    "for sid in [1,2,3]:\n",
    "    for cid in [2,4,6,8]:\n",
    "        inputcsv = prefix + \"-s\" + str(sid) + \"-c\" + str(cid) + \".csv\"\n",
    "        antt = compute_antt(inputcsv)\n",
    "        print inputcsv, antt[-1]\n",
    "    print \"\\n\""
   ]
  }
 ],
 "metadata": {
  "kernelspec": {
   "display_name": "Python 2",
   "language": "python",
   "name": "python2"
  },
  "language_info": {
   "codemirror_mode": {
    "name": "ipython",
    "version": 2
   },
   "file_extension": ".py",
   "mimetype": "text/x-python",
   "name": "python",
   "nbconvert_exporter": "python",
   "pygments_lexer": "ipython2",
   "version": "2.7.14"
  }
 },
 "nbformat": 4,
 "nbformat_minor": 2
}
