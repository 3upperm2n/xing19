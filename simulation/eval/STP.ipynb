{
 "cells": [
  {
   "cell_type": "code",
   "execution_count": 1,
   "metadata": {},
   "outputs": [],
   "source": [
    "import numpy as np\n",
    "import csv\n",
    "import pandas as pd"
   ]
  },
  {
   "cell_type": "code",
   "execution_count": 2,
   "metadata": {},
   "outputs": [],
   "source": [
    "# # dedicated runtime\n",
    "# appRuntime = np.load('../dedicated_runtime/app_dedicated_rt.npy').item()"
   ]
  },
  {
   "cell_type": "code",
   "execution_count": 3,
   "metadata": {},
   "outputs": [],
   "source": [
    "app_at_gpu0 = np.load('../../02_dedicate/homedesktop-gpu0.npy').item()\n",
    "# print app_at_gpu0\n",
    "\n",
    "app_at_gpu1 = np.load('../../02_dedicate/homedesktop-gpu1.npy').item()\n",
    "# print app_at_gpu1\n",
    "\n",
    "appRuntime = {}\n",
    "for app, gpu0_rt in app_at_gpu0.iteritems():\n",
    "    gpu1_rt = app_at_gpu1[app]\n",
    "    appRuntime[app] = min(gpu0_rt, gpu1_rt)"
   ]
  },
  {
   "cell_type": "code",
   "execution_count": 4,
   "metadata": {},
   "outputs": [],
   "source": [
    "# appRuntime"
   ]
  },
  {
   "cell_type": "code",
   "execution_count": 5,
   "metadata": {},
   "outputs": [],
   "source": [
    "def read_timing_df(curfile):\n",
    "    \"\"\"read timing traces in csv file, offset the trace with the starting pos, return the dataframe\"\"\"\n",
    "    df_current = pd.read_csv(curfile)\n",
    "    offset = df_current['start'].min()  # find the starting timing, and offset it\n",
    "    df_current['start'] = df_current['start'].apply(lambda x: x - offset)\n",
    "    df_current['end'] = df_current['end'].apply(lambda x: x - offset)\n",
    "    return df_current\n",
    "\n",
    "def compare_with_dedicatedruntime(df, appRuntime):\n",
    "    \"\"\"\n",
    "    read the timing traces in dataframe (after read_timing_df()).\n",
    "    compute the speedup over the dedicated runtime\n",
    "    return speedup list\n",
    "    \"\"\"\n",
    "    dedicated_total,  corun_total = 0.0, 0.0\n",
    "    speedup_list = []\n",
    "\n",
    "    # columns => ['jobID', 'appName', 'start', 'end', 'duration (s)']\n",
    "    for index, row in df.iterrows():\n",
    "        app_name, app_endT = row['appName'], row['end']\n",
    "        app_rt_dedicate = float(appRuntime[app_name])  # dedicated runtime\n",
    "        app_endT = float(app_endT)\n",
    "        if corun_total < app_endT: corun_total = app_endT\n",
    "        dedicated_total += app_rt_dedicate\n",
    "        speedup = dedicated_total / corun_total\n",
    "        speedup_list.append(speedup)   \n",
    "    return speedup_list"
   ]
  },
  {
   "cell_type": "code",
   "execution_count": 6,
   "metadata": {},
   "outputs": [
    {
     "data": {
      "text/plain": [
       "75"
      ]
     },
     "execution_count": 6,
     "metadata": {},
     "output_type": "execute_result"
    }
   ],
   "source": [
    "len(appRuntime)"
   ]
  },
  {
   "cell_type": "code",
   "execution_count": 7,
   "metadata": {},
   "outputs": [
    {
     "data": {
      "text/plain": [
       "{'cudasdk_BlackScholes': 1.9693429470062256,\n",
       " 'cudasdk_FDTD3d': 9.9745099544525146,\n",
       " 'cudasdk_MCEstimatePiInlineP': 0.26801586151123047,\n",
       " 'cudasdk_MCEstimatePiInlineQ': 0.24531793594360352,\n",
       " 'cudasdk_MCEstimatePiP': 0.28968906402587891,\n",
       " 'cudasdk_MCEstimatePiQ': 0.27803206443786621,\n",
       " 'cudasdk_MCSingleAsianOptionP': 0.2678530216217041,\n",
       " 'cudasdk_SobolQRNG': 0.31908392906188965,\n",
       " 'cudasdk_batchCUBLAS': 0.37936806678771973,\n",
       " 'cudasdk_binomialOptions': 22.217447996139526,\n",
       " 'cudasdk_boxFilterNPP': 0.25980210304260254,\n",
       " 'cudasdk_c++11Cuda': 0.84449291229248047,\n",
       " 'cudasdk_concurrentKernels': 0.24102401733398438,\n",
       " 'cudasdk_convolutionFFT2D': 3.0999901294708252,\n",
       " 'cudasdk_convolutionSeparable': 1.5115499496459961,\n",
       " 'cudasdk_convolutionTexture': 0.90807485580444336,\n",
       " 'cudasdk_dct8x8': 0.4726259708404541,\n",
       " 'cudasdk_dwtHaar1D': 0.23399615287780762,\n",
       " 'cudasdk_dxtc': 0.26365184783935547,\n",
       " 'cudasdk_eigenvalues': 2.1058349609375,\n",
       " 'cudasdk_fastWalshTransform': 2.7304399013519287,\n",
       " 'cudasdk_interval': 1.3808300495147705,\n",
       " 'cudasdk_lineOfSight': 0.29952311515808105,\n",
       " 'cudasdk_matrixMul': 0.45377087593078613,\n",
       " 'cudasdk_mergeSort': 0.49420499801635742,\n",
       " 'cudasdk_quasirandomGenerator': 0.85174894332885742,\n",
       " 'cudasdk_radixSortThrust': 1.0569000244140625,\n",
       " 'cudasdk_reduction': 0.68117094039916992,\n",
       " 'cudasdk_scalarProd': 0.27554678916931152,\n",
       " 'cudasdk_scan': 1.9164948463439941,\n",
       " 'cudasdk_segmentationTreeThrust': 2.6605408191680908,\n",
       " 'cudasdk_shflscan': 0.25724601745605469,\n",
       " 'cudasdk_simpleCUBLAS': 0.38605713844299316,\n",
       " 'cudasdk_simpleCUFFTcallback': 0.70993900299072266,\n",
       " 'cudasdk_sortingNetworks': 5.1487720012664795,\n",
       " 'cudasdk_stereoDisparity': 22.582595109939575,\n",
       " 'cudasdk_threadFenceReduction': 0.27285599708557129,\n",
       " 'cudasdk_transpose': 0.46477794647216797,\n",
       " 'cudasdk_vectorAdd': 0.23250794410705566,\n",
       " 'lonestar_bh': 7.337770938873291,\n",
       " 'parboil_bfs': 0.38708305358886719,\n",
       " 'parboil_cutcp': 0.30027008056640625,\n",
       " 'parboil_lbm': 2.1784279346466064,\n",
       " 'parboil_mriq': 0.23991012573242188,\n",
       " 'parboil_sgemm': 0.24231886863708496,\n",
       " 'parboil_stencil': 0.25097298622131348,\n",
       " 'poly_2dconv': 1.1127660274505615,\n",
       " 'poly_3dconv': 0.87738394737243652,\n",
       " 'poly_3mm': 2.042586088180542,\n",
       " 'poly_atax': 0.39109492301940918,\n",
       " 'poly_bicg': 0.38844084739685059,\n",
       " 'poly_correlation': 49.883692026138306,\n",
       " 'poly_covariance': 51.159648895263672,\n",
       " 'poly_fdtd2d': 27.784869194030762,\n",
       " 'poly_gemm': 0.86061501502990723,\n",
       " 'poly_gesummv': 0.40901494026184082,\n",
       " 'poly_mvt': 0.60522794723510742,\n",
       " 'poly_syr2k': 51.031411170959473,\n",
       " 'poly_syrk': 3.9220819473266602,\n",
       " 'rodinia_b+tree': 1.0812499523162842,\n",
       " 'rodinia_backprop': 0.26890897750854492,\n",
       " 'rodinia_dwt2d': 0.25281000137329102,\n",
       " 'rodinia_gaussian': 0.23317599296569824,\n",
       " 'rodinia_hotspot': 0.4529578685760498,\n",
       " 'rodinia_hybridsort': 0.48058485984802246,\n",
       " 'rodinia_lavaMD': 0.43408584594726562,\n",
       " 'rodinia_lud': 0.2398989200592041,\n",
       " 'rodinia_needle': 0.27673697471618652,\n",
       " 'rodinia_pathfinder': 0.38620090484619141,\n",
       " 'shoc_lev1BFS': 0.24061894416809082,\n",
       " 'shoc_lev1GEMM': 0.32240796089172363,\n",
       " 'shoc_lev1fft': 0.24262189865112305,\n",
       " 'shoc_lev1md5hash': 0.31501007080078125,\n",
       " 'shoc_lev1reduction': 0.30798101425170898,\n",
       " 'shoc_lev1sort': 0.25872492790222168}"
      ]
     },
     "execution_count": 7,
     "metadata": {},
     "output_type": "execute_result"
    }
   ],
   "source": [
    "appRuntime"
   ]
  },
  {
   "cell_type": "code",
   "execution_count": 8,
   "metadata": {},
   "outputs": [],
   "source": [
    "def compute_stp(inputcsv):\n",
    "    \"\"\"Read app status table in csv format, compute the ANTT\"\"\"\n",
    "    \n",
    "    df = read_timing_df(inputcsv)\n",
    "    \n",
    "    #\n",
    "    # 1) sort the dataframe by 'end'\n",
    "    #\n",
    "    sorted_df = df.sort_values(by=['end'])\n",
    "    \n",
    "    \n",
    "    #\n",
    "    # 2) compute the stp for each app\n",
    "    # \n",
    "    stp_list = []\n",
    "    for idx, row in sorted_df.iterrows():\n",
    "        appName = row['appName']\n",
    "        T_corun = float(row['duration (s)'])\n",
    "        T_dedicate = float(appRuntime[appName])\n",
    "\n",
    "        tmp =  T_dedicate / T_corun\n",
    "        stp_list.append(tmp)\n",
    "\n",
    "    #print stp_list\n",
    "    \n",
    "    #\n",
    "    # 3) in stp list, add current value with prev\n",
    "    # \n",
    "    stp = [0 for i in xrange(len(stp_list))]\n",
    "    for i, v in enumerate(stp_list):\n",
    "        if i == 0:\n",
    "            stp[0] = v\n",
    "        else:\n",
    "            stp[i] = stp[i-1] + v\n",
    "    \n",
    "    return stp\n",
    "    "
   ]
  },
  {
   "cell_type": "markdown",
   "metadata": {},
   "source": [
    "### read traces"
   ]
  },
  {
   "cell_type": "code",
   "execution_count": 9,
   "metadata": {},
   "outputs": [],
   "source": [
    "# inputcsv = \"../fcfs_csv/fcfs_run8_s1.csv\"\n",
    "# stp = compute_stp(inputcsv)\n",
    "# print stp\n",
    "\n",
    "# mydf = pd.DataFrame(stp)\n",
    "# mydf.to_csv('stp_fcfs_max8.csv', index=False, header=False)"
   ]
  },
  {
   "cell_type": "code",
   "execution_count": 10,
   "metadata": {},
   "outputs": [
    {
     "name": "stdout",
     "output_type": "stream",
     "text": [
      "ll-s1-c2.csv 43.294096957\n",
      "ll-s1-c4.csv 25.9461163075\n",
      "ll-s1-c6.csv 13.0208252945\n",
      "ll-s1-c8.csv 11.3686947955\n",
      "\n",
      "\n",
      "ll-s2-c2.csv 29.7406122005\n",
      "ll-s2-c4.csv 19.1059474497\n",
      "ll-s2-c6.csv 13.6690911357\n",
      "ll-s2-c8.csv 11.8805757976\n",
      "\n",
      "\n",
      "ll-s3-c2.csv 41.0530151517\n",
      "ll-s3-c4.csv 18.4197193782\n",
      "ll-s3-c6.csv 15.0715238904\n",
      "ll-s3-c8.csv 11.1728892932\n",
      "\n",
      "\n"
     ]
    }
   ],
   "source": [
    "prefix = \"ll\"\n",
    "for sid in [1,2,3]:\n",
    "    for cid in [2,4,6,8]:\n",
    "        inputcsv = prefix + \"-s\" + str(sid) + \"-c\" + str(cid) + \".csv\"\n",
    "        antt = compute_stp(inputcsv)\n",
    "        print inputcsv, antt[-1]\n",
    "    print \"\\n\""
   ]
  },
  {
   "cell_type": "code",
   "execution_count": 11,
   "metadata": {},
   "outputs": [
    {
     "name": "stdout",
     "output_type": "stream",
     "text": [
      "rr-s1-c2.csv 39.5783664545\n",
      "rr-s1-c4.csv 22.0660895839\n",
      "rr-s1-c6.csv 15.7546082523\n",
      "rr-s1-c8.csv 11.5475186766\n",
      "\n",
      "\n",
      "rr-s2-c2.csv 37.5774212307\n",
      "rr-s2-c4.csv 20.8530368451\n",
      "rr-s2-c6.csv 14.0342776989\n",
      "rr-s2-c8.csv 12.3664005075\n",
      "\n",
      "\n",
      "rr-s3-c2.csv 36.4797955137\n",
      "rr-s3-c4.csv 28.8815689666\n",
      "rr-s3-c6.csv 19.7537679568\n",
      "rr-s3-c8.csv 14.5165638052\n",
      "\n",
      "\n"
     ]
    }
   ],
   "source": [
    "prefix = \"rr\"\n",
    "for sid in [1,2,3]:\n",
    "    for cid in [2,4,6,8]:\n",
    "        inputcsv = prefix + \"-s\" + str(sid) + \"-c\" + str(cid) + \".csv\"\n",
    "        antt = compute_stp(inputcsv)\n",
    "        print inputcsv, antt[-1]\n",
    "    print \"\\n\""
   ]
  },
  {
   "cell_type": "code",
   "execution_count": 12,
   "metadata": {},
   "outputs": [
    {
     "name": "stdout",
     "output_type": "stream",
     "text": [
      "xrbfeatAll-s1-c2.csv 52.3424662771\n",
      "xrbfeatAll-s1-c4.csv 26.7862065505\n",
      "xrbfeatAll-s1-c6.csv 16.3634967964\n",
      "xrbfeatAll-s1-c8.csv 12.8437752527\n",
      "\n",
      "\n",
      "xrbfeatAll-s2-c2.csv 49.7191162431\n",
      "xrbfeatAll-s2-c4.csv 28.5964289773\n",
      "xrbfeatAll-s2-c6.csv 16.5690299207\n",
      "xrbfeatAll-s2-c8.csv 12.0506863939\n",
      "\n",
      "\n",
      "xrbfeatAll-s3-c2.csv 57.0411406514\n",
      "xrbfeatAll-s3-c4.csv 30.8259890337\n",
      "xrbfeatAll-s3-c6.csv 18.2643951246\n",
      "xrbfeatAll-s3-c8.csv 14.307913732\n",
      "\n",
      "\n"
     ]
    }
   ],
   "source": [
    "prefix = \"xrbfeatAll\"\n",
    "for sid in [1,2,3]:\n",
    "    for cid in [2,4,6,8]:\n",
    "        inputcsv = prefix + \"-s\" + str(sid) + \"-c\" + str(cid) + \".csv\"\n",
    "        antt = compute_stp(inputcsv)\n",
    "        print inputcsv, antt[-1]\n",
    "    print \"\\n\""
   ]
  },
  {
   "cell_type": "code",
   "execution_count": 13,
   "metadata": {},
   "outputs": [
    {
     "name": "stdout",
     "output_type": "stream",
     "text": [
      "xrbfeat9-s1-c2.csv 51.8525917031\n",
      "xrbfeat9-s1-c4.csv 32.3101594152\n",
      "xrbfeat9-s1-c6.csv 17.6011874403\n",
      "xrbfeat9-s1-c8.csv 13.3793183406\n",
      "\n",
      "\n",
      "xrbfeat9-s2-c2.csv 45.9316601078\n",
      "xrbfeat9-s2-c4.csv 34.8243324055\n",
      "xrbfeat9-s2-c6.csv 19.3183406771\n",
      "xrbfeat9-s2-c8.csv 12.9888398019\n",
      "\n",
      "\n",
      "xrbfeat9-s3-c2.csv 58.6307011915\n",
      "xrbfeat9-s3-c4.csv 32.4119374777\n",
      "xrbfeat9-s3-c6.csv 19.9745845734\n",
      "xrbfeat9-s3-c8.csv 13.2302454477\n",
      "\n",
      "\n"
     ]
    }
   ],
   "source": [
    "prefix = \"xrbfeat9\"\n",
    "for sid in [1,2,3]:\n",
    "    for cid in [2,4,6,8]:\n",
    "        inputcsv = prefix + \"-s\" + str(sid) + \"-c\" + str(cid) + \".csv\"\n",
    "        antt = compute_stp(inputcsv)\n",
    "        print inputcsv, antt[-1]\n",
    "    print \"\\n\""
   ]
  }
 ],
 "metadata": {
  "kernelspec": {
   "display_name": "Python 2",
   "language": "python",
   "name": "python2"
  },
  "language_info": {
   "codemirror_mode": {
    "name": "ipython",
    "version": 2
   },
   "file_extension": ".py",
   "mimetype": "text/x-python",
   "name": "python",
   "nbconvert_exporter": "python",
   "pygments_lexer": "ipython2",
   "version": "2.7.14"
  }
 },
 "nbformat": 4,
 "nbformat_minor": 2
}
