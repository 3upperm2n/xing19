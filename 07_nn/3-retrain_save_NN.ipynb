{
 "cells": [
  {
   "cell_type": "code",
   "execution_count": 1,
   "metadata": {
    "collapsed": true
   },
   "outputs": [],
   "source": [
    "# after running 2-build_neuralnets, you will obtain the best configuration of an NN model\n",
    "# rerun the model with \"identified best configuration\"\n",
    "# then save the model for future use"
   ]
  },
  {
   "cell_type": "code",
   "execution_count": 2,
   "metadata": {
    "collapsed": true
   },
   "outputs": [],
   "source": [
    "#\n",
    "# for laziness, i copied paste the code in 2-xxx, you can save the data in 2-xxx, to avoid the overhead\n",
    "#"
   ]
  },
  {
   "cell_type": "code",
   "execution_count": 3,
   "metadata": {
    "collapsed": true
   },
   "outputs": [],
   "source": [
    "import os,sys\n",
    "from sklearn import preprocessing\n",
    "\n",
    "import json\n",
    "import codecs\n",
    "import yaml\n",
    "import numpy as np\n",
    "import pandas as pd\n",
    "\n",
    "sys.path.append('../utils')\n",
    "from cudaMetrics import *"
   ]
  },
  {
   "cell_type": "code",
   "execution_count": 4,
   "metadata": {},
   "outputs": [
    {
     "name": "stdout",
     "output_type": "stream",
     "text": [
      "[warning] delete current row in the dataframe (rodinia_heartwall)\n"
     ]
    },
    {
     "name": "stderr",
     "output_type": "stream",
     "text": [
      "/Users/leiming/anaconda2/lib/python2.7/site-packages/ipykernel/__main__.py:29: FutureWarning: Method .as_matrix will be removed in a future version. Use .values instead.\n",
      "/Users/leiming/anaconda2/lib/python2.7/site-packages/ipykernel/__main__.py:30: FutureWarning: Method .as_matrix will be removed in a future version. Use .values instead.\n"
     ]
    }
   ],
   "source": [
    "df_app_scale = pd.read_csv('app_proflingmetrics_scaled.csv')\n",
    "df_metrics = df_app_scale.drop(df_app_scale.columns[0], axis=1) # drop the 1st column\n",
    "\n",
    "fastdev_dd = np.load(\"../05_whichgpufast/home-fastdev.npy\").item()\n",
    "targetpps = list(fastdev_dd.keys())\n",
    "\n",
    "df_metrics_cp = df_metrics.copy()\n",
    "for index, row in df_metrics_cp.iterrows():\n",
    "    appName = row['AppName']\n",
    "    if not appName in targetpps:\n",
    "        print(\"[warning] delete current row in the dataframe ({})\".format(appName))\n",
    "        df_metrics.drop(df_metrics[df_metrics.AppName == appName].index, inplace=True)\n",
    "\n",
    "\n",
    "df_metrics['best_dev'] = 1 \n",
    "for index, row in df_metrics.iterrows():\n",
    "    appName =  row['AppName']\n",
    "    fastdev = fastdev_dd[appName]\n",
    "    df_metrics.loc[index, 'best_dev'] = fastdev\n",
    "    \n",
    "\n",
    "def gen_model_input(df_dataset):\n",
    "    df_X = df_dataset.drop(['AppName', 'best_dev'], axis=1)\n",
    "    df_y = df_dataset['best_dev']\n",
    "    df_y = df_y.astype('int64')  # convert obj to int\n",
    "    return df_X, df_y\n",
    "\n",
    "df_X, df_y = gen_model_input(df_metrics)\n",
    "df_X = df_X.as_matrix().astype(np.float)\n",
    "df_y = df_y.as_matrix().astype(np.int32)"
   ]
  },
  {
   "cell_type": "code",
   "execution_count": 6,
   "metadata": {
    "collapsed": true
   },
   "outputs": [],
   "source": [
    "from sklearn.model_selection import StratifiedKFold  # StratifiedKFold\n",
    "from sklearn import metrics\n",
    "from sklearn.neural_network import MLPClassifier\n",
    "import pickle"
   ]
  },
  {
   "cell_type": "markdown",
   "metadata": {},
   "source": [
    "### build NN model with the target param"
   ]
  },
  {
   "cell_type": "code",
   "execution_count": null,
   "metadata": {
    "collapsed": true
   },
   "outputs": [],
   "source": [
    "pkl_filename = \"output_model.pkl\"\n",
    "\n",
    "fold_k = 5\n",
    "kf = StratifiedKFold(n_splits=fold_k, random_state=314159, shuffle=True)\n",
    "\n",
    "minError = 1.0\n",
    "for train_index, test_index in kf.split(df_X, df_y):            \n",
    "    X_train, X_test = df_X[train_index], df_X[test_index]\n",
    "    y_train, y_test = df_y[train_index], df_y[test_index]\n",
    "\n",
    "    clsfy = MLPClassifier(hidden_layer_sizes=(100, 100, 100),\n",
    "                          activation='identity',\n",
    "                          solver='adam',\n",
    "                          alpha=1.0,\n",
    "                          max_iter=1000) # max 1K iterations\n",
    "            \n",
    "    clsfy.fit(X_train, y_train)\n",
    "    err = metrics.mean_absolute_error(y_test, clsfy.predict(X_test))\n",
    "    print(\"error : {}\", err)\n",
    "    if err < minError:\n",
    "        # save the model \n",
    "        with open(pkl_filename, 'wb') as file: pickle.dump(model, file)"
   ]
  }
 ],
 "metadata": {
  "kernelspec": {
   "display_name": "Python [default]",
   "language": "python",
   "name": "python2"
  },
  "language_info": {
   "codemirror_mode": {
    "name": "ipython",
    "version": 2
   },
   "file_extension": ".py",
   "mimetype": "text/x-python",
   "name": "python",
   "nbconvert_exporter": "python",
   "pygments_lexer": "ipython2",
   "version": "2.7.13"
  }
 },
 "nbformat": 4,
 "nbformat_minor": 2
}
