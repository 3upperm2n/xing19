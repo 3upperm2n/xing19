{
 "cells": [
  {
   "cell_type": "code",
   "execution_count": 1,
   "metadata": {
    "collapsed": true
   },
   "outputs": [],
   "source": [
    "import os,sys\n",
    "from sklearn import preprocessing\n",
    "\n",
    "sys.path.append('../utils')\n",
    "from cudaMetrics import *"
   ]
  },
  {
   "cell_type": "code",
   "execution_count": 16,
   "metadata": {},
   "outputs": [
    {
     "name": "stdout",
     "output_type": "stream",
     "text": [
      "76\n"
     ]
    }
   ],
   "source": [
    "#\n",
    "# read metrics folder\n",
    "#\n",
    "metrics_folder='home-gpu0'\n",
    "appTrace = os.listdir(metrics_folder)\n",
    "print len(appTrace)"
   ]
  },
  {
   "cell_type": "code",
   "execution_count": 10,
   "metadata": {},
   "outputs": [
    {
     "data": {
      "text/plain": [
       "['metrics_parboil_mriq.csv',\n",
       " 'metrics_cudasdk_MCEstimatePiInlineQ.csv',\n",
       " 'metrics_shoc_lev1fft.csv',\n",
       " 'metrics_poly_fdtd2d.csv',\n",
       " 'metrics_cudasdk_vectorAdd.csv',\n",
       " 'metrics_cudasdk_concurrentKernels.csv',\n",
       " 'metrics_rodinia_lud.csv',\n",
       " 'metrics_cudasdk_MCEstimatePiInlineP.csv',\n",
       " 'metrics_rodinia_backprop.csv',\n",
       " 'metrics_cudasdk_segmentationTreeThrust.csv',\n",
       " 'metrics_cudasdk_sortingNetworks.csv',\n",
       " 'metrics_shoc_lev1BFS.csv',\n",
       " 'metrics_poly_covariance.csv',\n",
       " 'metrics_cudasdk_simpleCUFFTcallback.csv',\n",
       " 'metrics_cudasdk_transpose.csv',\n",
       " 'metrics_lonestar_bh.csv',\n",
       " 'metrics_poly_gemm.csv',\n",
       " 'metrics_shoc_lev1md5hash.csv',\n",
       " 'metrics_poly_bicg.csv',\n",
       " 'metrics_parboil_lbm.csv',\n",
       " 'metrics_shoc_lev1reduction.csv',\n",
       " 'metrics_cudasdk_scan.csv',\n",
       " 'metrics_cudasdk_reduction.csv',\n",
       " 'metrics_shoc_lev1GEMM.csv',\n",
       " 'metrics_parboil_sgemm.csv',\n",
       " 'metrics_poly_syrk.csv',\n",
       " 'metrics_rodinia_hybridsort.csv',\n",
       " 'metrics_parboil_cutcp.csv',\n",
       " 'metrics_cudasdk_scalarProd.csv',\n",
       " 'metrics_shoc_lev1sort.csv',\n",
       " 'metrics_cudasdk_radixSortThrust.csv',\n",
       " 'metrics_cudasdk_BlackScholes.csv',\n",
       " 'metrics_rodinia_lavaMD.csv',\n",
       " 'metrics_cudasdk_batchCUBLAS.csv',\n",
       " 'metrics_rodinia_b+tree.csv',\n",
       " 'metrics_cudasdk_shflscan.csv',\n",
       " 'metrics_rodinia_hotspot.csv',\n",
       " 'metrics_poly_syr2k.csv',\n",
       " 'metrics_cudasdk_dxtc.csv',\n",
       " 'metrics_cudasdk_stereoDisparity.csv',\n",
       " 'metrics_poly_3dconv.csv',\n",
       " 'metrics_poly_2dconv.csv',\n",
       " 'metrics_cudasdk_dwtHaar1D.csv',\n",
       " 'metrics_cudasdk_convolutionSeparable.csv',\n",
       " 'metrics_cudasdk_eigenvalues.csv',\n",
       " 'metrics_cudasdk_FDTD3d.csv',\n",
       " 'metrics_rodinia_dwt2d.csv',\n",
       " 'metrics_cudasdk_fastWalshTransform.csv',\n",
       " 'metrics_poly_gesummv.csv',\n",
       " 'metrics_cudasdk_mergeSort.csv',\n",
       " 'metrics_rodinia_heartwall.csv',\n",
       " 'metrics_parboil_bfs.csv',\n",
       " 'metrics_cudasdk_SobolQRNG.csv',\n",
       " 'metrics_cudasdk_quasirandomGenerator.csv',\n",
       " 'metrics_cudasdk_dct8x8.csv',\n",
       " 'metrics_cudasdk_lineOfSight.csv',\n",
       " 'metrics_cudasdk_matrixMul.csv',\n",
       " 'metrics_poly_atax.csv',\n",
       " 'metrics_poly_mvt.csv',\n",
       " 'metrics_poly_correlation.csv',\n",
       " 'metrics_parboil_stencil.csv',\n",
       " 'metrics_cudasdk_binomialOptions.csv',\n",
       " 'metrics_rodinia_needle.csv',\n",
       " 'metrics_cudasdk_threadFenceReduction.csv',\n",
       " 'metrics_cudasdk_MCEstimatePiQ.csv',\n",
       " 'metrics_cudasdk_simpleCUBLAS.csv',\n",
       " 'metrics_poly_3mm.csv',\n",
       " 'metrics_cudasdk_MCEstimatePiP.csv',\n",
       " 'metrics_rodinia_gaussian.csv',\n",
       " 'metrics_cudasdk_interval.csv',\n",
       " 'metrics_cudasdk_c++11Cuda.csv',\n",
       " 'metrics_rodinia_pathfinder.csv',\n",
       " 'metrics_cudasdk_boxFilterNPP.csv',\n",
       " 'metrics_cudasdk_convolutionFFT2D.csv',\n",
       " 'metrics_cudasdk_convolutionTexture.csv',\n",
       " 'metrics_cudasdk_MCSingleAsianOptionP.csv']"
      ]
     },
     "execution_count": 10,
     "metadata": {},
     "output_type": "execute_result"
    }
   ],
   "source": [
    "appTrace"
   ]
  },
  {
   "cell_type": "code",
   "execution_count": 14,
   "metadata": {},
   "outputs": [],
   "source": [
    "app_kernel_metrics_dd = {}\n",
    "for f in appTrace:\n",
    "    csvfile  = metrics_folder + '/' + f\n",
    "    #print f\n",
    "    sep_str = f.split('_')\n",
    "    appName = sep_str[-1][:-4]\n",
    "    \n",
    "    df_app = read_trace(csvfile)\n",
    "    \n",
    "    kernelList = df_app['Kernel'].unique()\n",
    "    \n",
    "    # extract metrics for each kernel\n",
    "    kernel_metrics_dd = {}\n",
    "    for kernName in kernelList:\n",
    "        df_kern = df_app.loc[df_app['Kernel'] == kernName]\n",
    "        # go through each metrics and read the avg value\n",
    "        metrics_dd = {}\n",
    "        for index, rows in df_kern.iterrows():\n",
    "            local_metric_name = rows['Metric Name']\n",
    "            local_metric_value = rows['Avg']\n",
    "            try:\n",
    "                adjustedV = adjust_metric(local_metric_name, local_metric_value)\n",
    "            except:\n",
    "                print(\"Unexpected error!\\nfile: {}\\nmetric: {}\\nvalue: {}\".format(currentFile, \n",
    "                    local_metric_name, local_metric_value))\n",
    "                sys.exit(0)\n",
    "            \n",
    "            metrics_dd[local_metric_name] = adjustedV\n",
    "        # update \n",
    "        kernel_metrics_dd[kernName] = metrics_dd\n",
    "    # update\n",
    "    app_kernel_metrics_dd[appName] = kernel_metrics_dd\n",
    "    #break"
   ]
  },
  {
   "cell_type": "code",
   "execution_count": 15,
   "metadata": {},
   "outputs": [
    {
     "name": "stdout",
     "output_type": "stream",
     "text": [
      "applications : 76\n",
      "kernels : 238\n"
     ]
    }
   ],
   "source": [
    "print(\"applications : {}\".format(len(app_kernel_metrics_dd)))\n",
    "\n",
    "totalKernNum = 0\n",
    "for app, kern_metrics_dd in app_kernel_metrics_dd.iteritems():\n",
    "    #print len(kern_metrics_dd)\n",
    "    totalKernNum += len(kern_metrics_dd)\n",
    "\n",
    "print(\"kernels : {}\".format(str(totalKernNum)))"
   ]
  },
  {
   "cell_type": "code",
   "execution_count": null,
   "metadata": {
    "collapsed": true
   },
   "outputs": [],
   "source": []
  }
 ],
 "metadata": {
  "kernelspec": {
   "display_name": "Python [default]",
   "language": "python",
   "name": "python2"
  },
  "language_info": {
   "codemirror_mode": {
    "name": "ipython",
    "version": 2
   },
   "file_extension": ".py",
   "mimetype": "text/x-python",
   "name": "python",
   "nbconvert_exporter": "python",
   "pygments_lexer": "ipython2",
   "version": "2.7.13"
  }
 },
 "nbformat": 4,
 "nbformat_minor": 2
}
